{
 "cells": [
  {
   "cell_type": "code",
   "execution_count": 8,
   "metadata": {},
   "outputs": [
    {
     "ename": "SystemExit",
     "evalue": "Failure at solvers/mathematical_program.cc:1047 in AddBoundingBoxConstraint(): condition 'lb.rows() == vars.rows()' failed.",
     "output_type": "error",
     "traceback": [
      "An exception has occurred, use %tb to see the full traceback.\n",
      "\u001b[0;31mSystemExit\u001b[0m\u001b[0;31m:\u001b[0m Failure at solvers/mathematical_program.cc:1047 in AddBoundingBoxConstraint(): condition 'lb.rows() == vars.rows()' failed.\n"
     ]
    }
   ],
   "source": [
    "%matplotlib inline\n",
    "\n",
    "\"\"\"\n",
    "Simulate quadrotor\n",
    "\"\"\"\n",
    "import quad_sim\n",
    "import numpy as np\n",
    "from math import sin, cos, pi\n",
    "from scipy.integrate import solve_ivp\n",
    "import matplotlib.pyplot as plt\n",
    "import importlib\n",
    "\n",
    "from quad_sim import simulate_quadrotor\n",
    "\n",
    "# Need to reload the module to use the latest code\n",
    "import quadrotor\n",
    "importlib.reload(quadrotor)\n",
    "from quadrotor import Quadrotor\n",
    "\n",
    "\"\"\"\n",
    "Load in the animation function\n",
    "\"\"\"\n",
    "import create_animation\n",
    "importlib.reload(create_animation)\n",
    "from create_animation import create_animation\n",
    "\n",
    "# Weights of LQR cost\n",
    "R = np.eye(2)\n",
    "Q = np.diag([10, 10, 10, 1, 1, 1,1,1,1,1,1,1])\n",
    "Qf = Q\n",
    "\n",
    "# End time of the simulation\n",
    "tf = 10\n",
    "\n",
    "# Construct our quadrotor controller \n",
    "quadrotor = Quadrotor(Q, R, Qf)\n",
    "\n",
    "# Set quadrotor's initial state and simulate\n",
    "x0 = np.array([0.5, 0.5, 0, 1, 1, 0,0,0,0,0,0,0])\n",
    "x, u, t = simulate_quadrotor(x0, tf, quadrotor)\n",
    "\n",
    "anim, fig = create_animation(x, tf)\n",
    "plt.close()\n",
    "anim"
   ]
  }
 ],
 "metadata": {
  "kernelspec": {
   "display_name": "Python 3 (ipykernel)",
   "language": "python",
   "name": "python3"
  },
  "language_info": {
   "codemirror_mode": {
    "name": "ipython",
    "version": 3
   },
   "file_extension": ".py",
   "mimetype": "text/x-python",
   "name": "python",
   "nbconvert_exporter": "python",
   "pygments_lexer": "ipython3",
   "version": "3.12.0"
  }
 },
 "nbformat": 4,
 "nbformat_minor": 4
}
